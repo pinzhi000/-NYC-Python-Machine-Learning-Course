{
 "cells": [
  {
   "cell_type": "markdown",
   "metadata": {},
   "source": [
    "# Answer"
   ]
  },
  {
   "cell_type": "markdown",
   "metadata": {},
   "source": [
    "## Homework"
   ]
  },
  {
   "cell_type": "code",
   "execution_count": 1,
   "metadata": {
    "collapsed": false
   },
   "outputs": [],
   "source": [
    "# 1. Function for sampling k centroids from the original data\n",
    "import numpy as np\n",
    "def generate_centroid(features, k):\n",
    "    ## features: the features, should be a array\n",
    "    ## k: number of centroids\n",
    "    m = features.shape[0]\n",
    "    index = np.random.choice(m, k, replace=False)\n",
    "    centroid = x[index, :]\n",
    "    return centroid"
   ]
  },
  {
   "cell_type": "code",
   "execution_count": 2,
   "metadata": {
    "collapsed": false
   },
   "outputs": [],
   "source": [
    "# 2. A function to compute the distance between the data and centroids\n",
    "def get_distance(features, centroid):\n",
    "    n = features.shape[0]\n",
    "    p = centroid.shape[0]\n",
    "    distance = np.ones([n, p])\n",
    "    for i in range(n):\n",
    "        for j in range(p):\n",
    "            distance[i, j] = np.sum((features[i, :] - centroid[j, :]) ** 2)\n",
    "    return distance"
   ]
  },
  {
   "cell_type": "code",
   "execution_count": 3,
   "metadata": {
    "collapsed": false
   },
   "outputs": [],
   "source": [
    "# 3. Given a distance matrix, return the index of minimal number in each row\n",
    "def get_label(distance):\n",
    "    return distance.argmin(1)"
   ]
  },
  {
   "cell_type": "code",
   "execution_count": 4,
   "metadata": {
    "collapsed": false
   },
   "outputs": [],
   "source": [
    "# 4. Update the centroids.\n",
    "def get_centroid(features, label):\n",
    "    unique_label = np.unique(label)\n",
    "    k = unique_label.shape[0]\n",
    "    centroid = np.ones([k, features.shape[1]])\n",
    "    for i in range(k):\n",
    "        index = [ j == unique_label[i] for j in label ]\n",
    "        index = np.array(index)\n",
    "        centroid[i, :] = np.mean(features[index, :], 0)\n",
    "    return centroid"
   ]
  },
  {
   "cell_type": "raw",
   "metadata": {
    "collapsed": false
   },
   "source": [
    "# you can play with these steps in your python console to how it works.\n",
    ">>> import numpy as np\n",
    ">>> label = np.array([0, 1, 0, 1, 0, 1])\n",
    ">>> features = np.array([[1 ,2 ], [2, 3], [5, 7], [2, 5], [6, 7], [9, 3]]) \n",
    "\n",
    ">>> unique_label = np.unique(label)\n",
    ">>> unique_label\n",
    "array([0, 1])\n",
    ">>> k = unique_label.shape[0]\n",
    ">>> k\n",
    "2\n",
    ">>> range(k)\n",
    "[0, 1]\n",
    "\n",
    "### first loop\n",
    ">>> i = 0\n",
    ">>> index = [ j == unique_label[i] for j in label ]\n",
    ">>> index = np.array(index)\n",
    ">>> index\n",
    "array([ True, False,  True, False,  True, False], dtype=bool)\n",
    "\n",
    ">>> features[index, :]\n",
    "array([[1, 2],\n",
    "       [5, 7],\n",
    "       [6, 7]])\n",
    ">>> np.mean(features[index, :], 0)\n",
    "array([ 4.        ,  5.33333333])\n",
    "\n",
    "### second loop\n",
    ">>> i = 1\n",
    ">>> index = [ j == unique_label[i] for j in label ]\n",
    ">>> index = np.array(index)\n",
    ">>> index\n",
    "array([False,  True, False,  True, False,  True], dtype=bool)\n",
    ">>> features[index, :]\n",
    "array([[2, 3],\n",
    "       [2, 5],\n",
    "       [9, 3]])\n",
    ">>> np.mean(features[index, :], 0)\n",
    "array([ 4.33333333,  3.66666667])"
   ]
  },
  {
   "cell_type": "code",
   "execution_count": 5,
   "metadata": {
    "collapsed": false
   },
   "outputs": [],
   "source": [
    "# 5. Combine them together.\n",
    "def kmeans(x, k, centroid = None, max_itre = 300):\n",
    "    if centroid == None:\n",
    "        centroid = generate_centroid(x, k)\n",
    "    i = 0\n",
    "    while i <= max_itre:\n",
    "        i += 1\n",
    "        distance = get_distance(x, centroid)\n",
    "        label = get_label(distance)\n",
    "        centroid_update = get_centroid(x, label)\n",
    "        if np.all(centroid_update == centroid):\n",
    "            break\n",
    "        else:\n",
    "            centroid = centroid_update\n",
    "    return label, centroid"
   ]
  },
  {
   "cell_type": "code",
   "execution_count": 6,
   "metadata": {
    "collapsed": false
   },
   "outputs": [],
   "source": [
    "# 6. Test.\n",
    "# 1. generate random samples\n",
    "x1 = np.random.randn(50, 2) * 5 + 10\n",
    "x2 = np.random.randn(50, 2) * 5 - 10\n",
    "x = np.row_stack([x1, x2])"
   ]
  },
  {
   "cell_type": "code",
   "execution_count": 7,
   "metadata": {
    "collapsed": false
   },
   "outputs": [
    {
     "name": "stdout",
     "output_type": "stream",
     "text": [
      "[0 0 0 0 0 0 0 0 0 0 0 0 0 0 0 0 0 0 0 0 0 0 0 0 0 0 0 0 0 0 0 0 0 0 0 0 0\n",
      " 0 0 0 0 0 0 0 0 0 0 0 0 0 1 1 1 1 1 1 1 1 1 1 1 1 1 1 1 1 1 1 1 1 1 1 1 1\n",
      " 1 1 1 1 1 1 1 1 1 1 1 1 1 1 1 1 1 1 1 1 1 1 1 1 1 1]\n",
      "[[  9.97888307  10.82799033]\n",
      " [-11.86354151  -9.41227296]]\n"
     ]
    }
   ],
   "source": [
    "# 2. fit\n",
    "label, centroid = kmeans(x, 2)\n",
    "print label\n",
    "print centroid"
   ]
  },
  {
   "cell_type": "code",
   "execution_count": 8,
   "metadata": {
    "collapsed": false
   },
   "outputs": [
    {
     "data": {
      "text/plain": [
       "<matplotlib.collections.PathCollection at 0x1068c5550>"
      ]
     },
     "execution_count": 8,
     "metadata": {},
     "output_type": "execute_result"
    },
    {
     "data": {
      "image/png": "[encoded data removed]",
      "text/plain": [
       "<matplotlib.figure.Figure at 0x105736510>"
      ]
     },
     "metadata": {},
     "output_type": "display_data"
    }
   ],
   "source": [
    "# 3. plot\n",
    "from matplotlib import pylab\n",
    "%matplotlib inline\n",
    "pylab.rcParams['figure.figsize'] = (6, 4.0)\n",
    "pylab.scatter(x[:, 0], x[:, 1], c = label)\n",
    "pylab.scatter(centroid[:, 0], centroid[:, 1], s = 1000, marker= '+', c=['red', 'blue'])"
   ]
  }
 ],
 "metadata": {
  "kernelspec": {
   "display_name": "Python 2",
   "language": "python",
   "name": "python2"
  },
  "language_info": {
   "codemirror_mode": {
    "name": "ipython",
    "version": 2
   },
   "file_extension": ".py",
   "mimetype": "text/x-python",
   "name": "python",
   "nbconvert_exporter": "python",
   "pygments_lexer": "ipython2",
   "version": "2.7.9"
  }
 },
 "nbformat": 4,
 "nbformat_minor": 0
}
